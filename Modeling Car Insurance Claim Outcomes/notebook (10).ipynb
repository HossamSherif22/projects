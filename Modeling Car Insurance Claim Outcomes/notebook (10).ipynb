{
 "cells": [
  {
   "attachments": {},
   "cell_type": "markdown",
   "id": "c3f0e974-faf8-458f-bf2a-06a469d0ea5e",
   "metadata": {},
   "source": [
    "![car](car.jpg)\n",
    "\n",
    "Insurance companies invest a lot of [time and money](https://www.accenture.com/_acnmedia/pdf-84/accenture-machine-leaning-insurance.pdf) into optimizing their pricing and accurately estimating the likelihood that customers will make a claim. In many countries insurance it is a legal requirement to have car insurance in order to drive a vehicle on public roads, so the market is very large!\n",
    "\n",
    "Knowing all of this, On the Road car insurance have requested your services in building a model to predict whether a customer will make a claim on their insurance during the policy period. As they have very little expertise and infrastructure for deploying and monitoring machine learning models, they've asked you to identify the single feature that results in the best performing model, as measured by accuracy, so they can start with a simple model in production.\n",
    "\n",
    "They have supplied you with their customer data as a csv file called `car_insurance.csv`, along with a table detailing the column names and descriptions below."
   ]
  },
  {
   "cell_type": "markdown",
   "id": "8928ffdf-25d6-4ad9-909f-0dd8d10b9a42",
   "metadata": {},
   "source": [
    "\n",
    "\n",
    "## The dataset\n",
    "\n",
    "| Column | Description |\n",
    "|--------|-------------|\n",
    "| `id` | Unique client identifier |\n",
    "| `age` | Client's age: <br> <ul><li>`0`: 16-25</li><li>`1`: 26-39</li><li>`2`: 40-64</li><li>`3`: 65+</li></ul> |\n",
    "| `gender` | Client's gender: <br> <ul><li>`0`: Female</li><li>`1`: Male</li></ul> |\n",
    "| `driving_experience` | Years the client has been driving: <br> <ul><li>`0`: 0-9</li><li>`1`: 10-19</li><li>`2`: 20-29</li><li>`3`: 30+</li></ul> |\n",
    "| `education` | Client's level of education: <br> <ul><li>`0`: No education</li><li>`1`: High school</li><li>`2`: University</li></ul> |\n",
    "| `income` | Client's income level: <br> <ul><li>`0`: Poverty</li><li>`1`: Working class</li><li>`2`: Middle class</li><li>`3`: Upper class</li></ul> |\n",
    "| `credit_score` | Client's credit score (between zero and one) |\n",
    "| `vehicle_ownership` | Client's vehicle ownership status: <br><ul><li>`0`: Does not own their vehilce (paying off finance)</li><li>`1`: Owns their vehicle</li></ul> |\n",
    "| `vehcile_year` | Year of vehicle registration: <br><ul><li>`0`: Before 2015</li><li>`1`: 2015 or later</li></ul> |\n",
    "| `married` | Client's marital status: <br><ul><li>`0`: Not married</li><li>`1`: Married</li></ul> |\n",
    "| `children` | Client's number of children |\n",
    "| `postal_code` | Client's postal code | \n",
    "| `annual_mileage` | Number of miles driven by the client each year |\n",
    "| `vehicle_type` | Type of car: <br> <ul><li>`0`: Sedan</li><li>`1`: Sports car</li></ul> |\n",
    "| `speeding_violations` | Total number of speeding violations received by the client | \n",
    "| `duis` | Number of times the client has been caught driving under the influence of alcohol |\n",
    "| `past_accidents` | Total number of previous accidents the client has been involved in |\n",
    "| `outcome` | Whether the client made a claim on their car insurance (response variable): <br><ul><li>`0`: No claim</li><li>`1`: Made a claim</li></ul> |"
   ]
  },
  {
   "cell_type": "code",
   "execution_count": 3,
   "id": "d0eb4f16-5a99-460d-a5ba-706b7ef0bbe7",
   "metadata": {
    "executionTime": 11,
    "id": "bA5ajAmk7XH6",
    "lastSuccessfullyExecutedCode": "# Import required modules\nimport pandas as pd\nimport numpy as np\nfrom statsmodels.formula.api import logit"
   },
   "outputs": [],
   "source": [
    "# Import required modules\n",
    "import pandas as pd\n",
    "import numpy as np\n",
    "from statsmodels.formula.api import logit\n"
   ]
  },
  {
   "cell_type": "code",
   "execution_count": 4,
   "id": "be8f7acb-894c-458e-8f43-dac2861cbead",
   "metadata": {},
   "outputs": [
    {
     "data": {
      "text/html": [
       "<div>\n",
       "<style scoped>\n",
       "    .dataframe tbody tr th:only-of-type {\n",
       "        vertical-align: middle;\n",
       "    }\n",
       "\n",
       "    .dataframe tbody tr th {\n",
       "        vertical-align: top;\n",
       "    }\n",
       "\n",
       "    .dataframe thead th {\n",
       "        text-align: right;\n",
       "    }\n",
       "</style>\n",
       "<table border=\"1\" class=\"dataframe\">\n",
       "  <thead>\n",
       "    <tr style=\"text-align: right;\">\n",
       "      <th></th>\n",
       "      <th>id</th>\n",
       "      <th>age</th>\n",
       "      <th>gender</th>\n",
       "      <th>driving_experience</th>\n",
       "      <th>education</th>\n",
       "      <th>income</th>\n",
       "      <th>credit_score</th>\n",
       "      <th>vehicle_ownership</th>\n",
       "      <th>vehicle_year</th>\n",
       "      <th>married</th>\n",
       "      <th>children</th>\n",
       "      <th>postal_code</th>\n",
       "      <th>annual_mileage</th>\n",
       "      <th>vehicle_type</th>\n",
       "      <th>speeding_violations</th>\n",
       "      <th>duis</th>\n",
       "      <th>past_accidents</th>\n",
       "      <th>outcome</th>\n",
       "    </tr>\n",
       "  </thead>\n",
       "  <tbody>\n",
       "    <tr>\n",
       "      <th>0</th>\n",
       "      <td>569520</td>\n",
       "      <td>3</td>\n",
       "      <td>0</td>\n",
       "      <td>0-9y</td>\n",
       "      <td>high school</td>\n",
       "      <td>upper class</td>\n",
       "      <td>0.629027</td>\n",
       "      <td>1.0</td>\n",
       "      <td>after 2015</td>\n",
       "      <td>0.0</td>\n",
       "      <td>1.0</td>\n",
       "      <td>10238</td>\n",
       "      <td>12000.0</td>\n",
       "      <td>sedan</td>\n",
       "      <td>0</td>\n",
       "      <td>0</td>\n",
       "      <td>0</td>\n",
       "      <td>0.0</td>\n",
       "    </tr>\n",
       "    <tr>\n",
       "      <th>1</th>\n",
       "      <td>750365</td>\n",
       "      <td>0</td>\n",
       "      <td>1</td>\n",
       "      <td>0-9y</td>\n",
       "      <td>none</td>\n",
       "      <td>poverty</td>\n",
       "      <td>0.357757</td>\n",
       "      <td>0.0</td>\n",
       "      <td>before 2015</td>\n",
       "      <td>0.0</td>\n",
       "      <td>0.0</td>\n",
       "      <td>10238</td>\n",
       "      <td>16000.0</td>\n",
       "      <td>sedan</td>\n",
       "      <td>0</td>\n",
       "      <td>0</td>\n",
       "      <td>0</td>\n",
       "      <td>1.0</td>\n",
       "    </tr>\n",
       "    <tr>\n",
       "      <th>2</th>\n",
       "      <td>199901</td>\n",
       "      <td>0</td>\n",
       "      <td>0</td>\n",
       "      <td>0-9y</td>\n",
       "      <td>high school</td>\n",
       "      <td>working class</td>\n",
       "      <td>0.493146</td>\n",
       "      <td>1.0</td>\n",
       "      <td>before 2015</td>\n",
       "      <td>0.0</td>\n",
       "      <td>0.0</td>\n",
       "      <td>10238</td>\n",
       "      <td>11000.0</td>\n",
       "      <td>sedan</td>\n",
       "      <td>0</td>\n",
       "      <td>0</td>\n",
       "      <td>0</td>\n",
       "      <td>0.0</td>\n",
       "    </tr>\n",
       "    <tr>\n",
       "      <th>3</th>\n",
       "      <td>478866</td>\n",
       "      <td>0</td>\n",
       "      <td>1</td>\n",
       "      <td>0-9y</td>\n",
       "      <td>university</td>\n",
       "      <td>working class</td>\n",
       "      <td>0.206013</td>\n",
       "      <td>1.0</td>\n",
       "      <td>before 2015</td>\n",
       "      <td>0.0</td>\n",
       "      <td>1.0</td>\n",
       "      <td>32765</td>\n",
       "      <td>11000.0</td>\n",
       "      <td>sedan</td>\n",
       "      <td>0</td>\n",
       "      <td>0</td>\n",
       "      <td>0</td>\n",
       "      <td>0.0</td>\n",
       "    </tr>\n",
       "    <tr>\n",
       "      <th>4</th>\n",
       "      <td>731664</td>\n",
       "      <td>1</td>\n",
       "      <td>1</td>\n",
       "      <td>10-19y</td>\n",
       "      <td>none</td>\n",
       "      <td>working class</td>\n",
       "      <td>0.388366</td>\n",
       "      <td>1.0</td>\n",
       "      <td>before 2015</td>\n",
       "      <td>0.0</td>\n",
       "      <td>0.0</td>\n",
       "      <td>32765</td>\n",
       "      <td>12000.0</td>\n",
       "      <td>sedan</td>\n",
       "      <td>2</td>\n",
       "      <td>0</td>\n",
       "      <td>1</td>\n",
       "      <td>1.0</td>\n",
       "    </tr>\n",
       "  </tbody>\n",
       "</table>\n",
       "</div>"
      ],
      "text/plain": [
       "       id  age  gender driving_experience    education         income  \\\n",
       "0  569520    3       0               0-9y  high school    upper class   \n",
       "1  750365    0       1               0-9y         none        poverty   \n",
       "2  199901    0       0               0-9y  high school  working class   \n",
       "3  478866    0       1               0-9y   university  working class   \n",
       "4  731664    1       1             10-19y         none  working class   \n",
       "\n",
       "   credit_score  vehicle_ownership vehicle_year  married  children  \\\n",
       "0      0.629027                1.0   after 2015      0.0       1.0   \n",
       "1      0.357757                0.0  before 2015      0.0       0.0   \n",
       "2      0.493146                1.0  before 2015      0.0       0.0   \n",
       "3      0.206013                1.0  before 2015      0.0       1.0   \n",
       "4      0.388366                1.0  before 2015      0.0       0.0   \n",
       "\n",
       "   postal_code  annual_mileage vehicle_type  speeding_violations  duis  \\\n",
       "0        10238         12000.0        sedan                    0     0   \n",
       "1        10238         16000.0        sedan                    0     0   \n",
       "2        10238         11000.0        sedan                    0     0   \n",
       "3        32765         11000.0        sedan                    0     0   \n",
       "4        32765         12000.0        sedan                    2     0   \n",
       "\n",
       "   past_accidents  outcome  \n",
       "0               0      0.0  \n",
       "1               0      1.0  \n",
       "2               0      0.0  \n",
       "3               0      0.0  \n",
       "4               1      1.0  "
      ]
     },
     "execution_count": 4,
     "metadata": {},
     "output_type": "execute_result"
    }
   ],
   "source": [
    "df = pd.read_csv('car_insurance.csv')\n",
    "df.head()"
   ]
  },
  {
   "cell_type": "markdown",
   "id": "b2678eda-37ce-4f20-bb10-83c4d2e5c548",
   "metadata": {},
   "source": [
    "# EDA"
   ]
  },
  {
   "cell_type": "code",
   "execution_count": 6,
   "id": "1806325b-72f6-4ac9-aa1a-55cff6d47749",
   "metadata": {},
   "outputs": [
    {
     "name": "stdout",
     "output_type": "stream",
     "text": [
      "<class 'pandas.core.frame.DataFrame'>\n",
      "RangeIndex: 10000 entries, 0 to 9999\n",
      "Data columns (total 18 columns):\n",
      " #   Column               Non-Null Count  Dtype  \n",
      "---  ------               --------------  -----  \n",
      " 0   id                   10000 non-null  int64  \n",
      " 1   age                  10000 non-null  int64  \n",
      " 2   gender               10000 non-null  int64  \n",
      " 3   driving_experience   10000 non-null  object \n",
      " 4   education            10000 non-null  object \n",
      " 5   income               10000 non-null  object \n",
      " 6   credit_score         9018 non-null   float64\n",
      " 7   vehicle_ownership    10000 non-null  float64\n",
      " 8   vehicle_year         10000 non-null  object \n",
      " 9   married              10000 non-null  float64\n",
      " 10  children             10000 non-null  float64\n",
      " 11  postal_code          10000 non-null  int64  \n",
      " 12  annual_mileage       9043 non-null   float64\n",
      " 13  vehicle_type         10000 non-null  object \n",
      " 14  speeding_violations  10000 non-null  int64  \n",
      " 15  duis                 10000 non-null  int64  \n",
      " 16  past_accidents       10000 non-null  int64  \n",
      " 17  outcome              10000 non-null  float64\n",
      "dtypes: float64(6), int64(7), object(5)\n",
      "memory usage: 1.4+ MB\n"
     ]
    }
   ],
   "source": [
    "df.info()"
   ]
  },
  {
   "cell_type": "code",
   "execution_count": 7,
   "id": "d0afd4ec-2c43-4e98-871c-b51ff1e4b32d",
   "metadata": {},
   "outputs": [
    {
     "data": {
      "text/plain": [
       "outcome\n",
       "0.0    6867\n",
       "1.0    3133\n",
       "Name: count, dtype: int64"
      ]
     },
     "execution_count": 7,
     "metadata": {},
     "output_type": "execute_result"
    }
   ],
   "source": [
    "df['outcome'].value_counts()"
   ]
  },
  {
   "cell_type": "code",
   "execution_count": 8,
   "id": "09a27379-9927-4474-b3b1-213920a3847e",
   "metadata": {},
   "outputs": [],
   "source": [
    "df['outcome'] = df['outcome'].astype('int')"
   ]
  },
  {
   "cell_type": "code",
   "execution_count": 9,
   "id": "a2c5a7f5-e414-4c12-a6be-0b96f383ab84",
   "metadata": {},
   "outputs": [
    {
     "data": {
      "text/plain": [
       "outcome\n",
       "0    6867\n",
       "1    3133\n",
       "Name: count, dtype: int64"
      ]
     },
     "execution_count": 9,
     "metadata": {},
     "output_type": "execute_result"
    }
   ],
   "source": [
    "df['outcome'].value_counts()"
   ]
  },
  {
   "cell_type": "code",
   "execution_count": 10,
   "id": "e765e783-ade1-47c3-b6cb-0a8c942c0232",
   "metadata": {},
   "outputs": [
    {
     "data": {
      "text/plain": [
       "id                       0\n",
       "age                      0\n",
       "gender                   0\n",
       "driving_experience       0\n",
       "education                0\n",
       "income                   0\n",
       "credit_score           982\n",
       "vehicle_ownership        0\n",
       "vehicle_year             0\n",
       "married                  0\n",
       "children                 0\n",
       "postal_code              0\n",
       "annual_mileage         957\n",
       "vehicle_type             0\n",
       "speeding_violations      0\n",
       "duis                     0\n",
       "past_accidents           0\n",
       "outcome                  0\n",
       "dtype: int64"
      ]
     },
     "execution_count": 10,
     "metadata": {},
     "output_type": "execute_result"
    }
   ],
   "source": [
    "df.isnull().sum()"
   ]
  },
  {
   "cell_type": "code",
   "execution_count": 11,
   "id": "9b4179bf-652b-43be-806f-f828ece2407f",
   "metadata": {},
   "outputs": [],
   "source": [
    "# Fill missing values with the mean\n",
    "df[\"credit_score\"].fillna(df[\"credit_score\"].mean(), inplace=True)\n",
    "df[\"annual_mileage\"].fillna(df[\"annual_mileage\"].mean(), inplace=True)"
   ]
  },
  {
   "cell_type": "code",
   "execution_count": 12,
   "id": "395b0331-d5a3-44b4-a101-cdfce524c16a",
   "metadata": {},
   "outputs": [
    {
     "data": {
      "text/plain": [
       "id                     0\n",
       "age                    0\n",
       "gender                 0\n",
       "driving_experience     0\n",
       "education              0\n",
       "income                 0\n",
       "credit_score           0\n",
       "vehicle_ownership      0\n",
       "vehicle_year           0\n",
       "married                0\n",
       "children               0\n",
       "postal_code            0\n",
       "annual_mileage         0\n",
       "vehicle_type           0\n",
       "speeding_violations    0\n",
       "duis                   0\n",
       "past_accidents         0\n",
       "outcome                0\n",
       "dtype: int64"
      ]
     },
     "execution_count": 12,
     "metadata": {},
     "output_type": "execute_result"
    }
   ],
   "source": [
    "df.isnull().sum()"
   ]
  },
  {
   "cell_type": "markdown",
   "id": "33315aac-e4f7-4221-8ff7-140cd4055765",
   "metadata": {},
   "source": [
    "# Modeling \n"
   ]
  },
  {
   "cell_type": "code",
   "execution_count": 22,
   "id": "441ce7b5-0612-4a46-8bc7-137bdca8c709",
   "metadata": {},
   "outputs": [],
   "source": [
    "# Convert categorical variables into dummy/indicator variables\n",
    "df = pd.get_dummies(df, columns=['gender', 'vehicle_type'], drop_first=True)"
   ]
  },
  {
   "cell_type": "code",
   "execution_count": 24,
   "id": "be2000c2-607f-4c9a-b588-72c36446cd71",
   "metadata": {
    "scrolled": true
   },
   "outputs": [
    {
     "name": "stdout",
     "output_type": "stream",
     "text": [
      "Optimization terminated successfully.\n",
      "         Current function value: 0.511794\n",
      "         Iterations 6\n",
      "Optimization terminated successfully.\n",
      "         Current function value: 0.467092\n",
      "         Iterations 8\n",
      "Optimization terminated successfully.\n",
      "         Current function value: 0.603742\n",
      "         Iterations 5\n",
      "Optimization terminated successfully.\n",
      "         Current function value: 0.531499\n",
      "         Iterations 6\n",
      "Optimization terminated successfully.\n",
      "         Current function value: 0.572557\n",
      "         Iterations 6\n",
      "Optimization terminated successfully.\n",
      "         Current function value: 0.552412\n",
      "         Iterations 5\n",
      "Optimization terminated successfully.\n",
      "         Current function value: 0.572668\n",
      "         Iterations 6\n",
      "Optimization terminated successfully.\n",
      "         Current function value: 0.586659\n",
      "         Iterations 5\n",
      "Optimization terminated successfully.\n",
      "         Current function value: 0.595431\n",
      "         Iterations 5\n",
      "Optimization terminated successfully.\n",
      "         Current function value: 0.617345\n",
      "         Iterations 5\n",
      "Optimization terminated successfully.\n",
      "         Current function value: 0.605716\n",
      "         Iterations 5\n",
      "Optimization terminated successfully.\n",
      "         Current function value: 0.558922\n",
      "         Iterations 7\n",
      "Optimization terminated successfully.\n",
      "         Current function value: 0.598699\n",
      "         Iterations 6\n",
      "Optimization terminated successfully.\n",
      "         Current function value: 0.549220\n",
      "         Iterations 7\n",
      "Optimization terminated successfully.\n",
      "         Current function value: 0.615951\n",
      "         Iterations 5\n"
     ]
    },
    {
     "ename": "SyntaxError",
     "evalue": "invalid syntax (<unknown>, line 1)",
     "output_type": "error",
     "traceback": [
      "Traceback \u001b[0;36m(most recent call last)\u001b[0m:\n",
      "\u001b[0m  File \u001b[1;32m/opt/conda/envs/anaconda-panel-2023.05-py310/lib/python3.11/site-packages/IPython/core/interactiveshell.py:3526\u001b[0m in \u001b[1;35mrun_code\u001b[0m\n    exec(code_obj, self.user_global_ns, self.user_ns)\u001b[0m\n",
      "\u001b[0m  Cell \u001b[1;32mIn[24], line 10\u001b[0m\n    model = logit(f\"outcome ~ {col}\", data=df).fit()\u001b[0m\n",
      "\u001b[0m  File \u001b[1;32m/opt/conda/envs/anaconda-panel-2023.05-py310/lib/python3.11/site-packages/statsmodels/base/model.py:203\u001b[0m in \u001b[1;35mfrom_formula\u001b[0m\n    tmp = handle_formula_data(data, None, formula, depth=eval_env,\u001b[0m\n",
      "\u001b[0m  File \u001b[1;32m/opt/conda/envs/anaconda-panel-2023.05-py310/lib/python3.11/site-packages/statsmodels/formula/formulatools.py:63\u001b[0m in \u001b[1;35mhandle_formula_data\u001b[0m\n    result = dmatrices(formula, Y, depth, return_type='dataframe',\u001b[0m\n",
      "\u001b[0m  File \u001b[1;32m/opt/conda/envs/anaconda-panel-2023.05-py310/lib/python3.11/site-packages/patsy/highlevel.py:309\u001b[0m in \u001b[1;35mdmatrices\u001b[0m\n    (lhs, rhs) = _do_highlevel_design(formula_like, data, eval_env,\u001b[0m\n",
      "\u001b[0m  File \u001b[1;32m/opt/conda/envs/anaconda-panel-2023.05-py310/lib/python3.11/site-packages/patsy/highlevel.py:164\u001b[0m in \u001b[1;35m_do_highlevel_design\u001b[0m\n    design_infos = _try_incr_builders(formula_like, data_iter_maker, eval_env,\u001b[0m\n",
      "\u001b[0m  File \u001b[1;32m/opt/conda/envs/anaconda-panel-2023.05-py310/lib/python3.11/site-packages/patsy/highlevel.py:66\u001b[0m in \u001b[1;35m_try_incr_builders\u001b[0m\n    return design_matrix_builders([formula_like.lhs_termlist,\u001b[0m\n",
      "\u001b[0m  File \u001b[1;32m/opt/conda/envs/anaconda-panel-2023.05-py310/lib/python3.11/site-packages/patsy/build.py:689\u001b[0m in \u001b[1;35mdesign_matrix_builders\u001b[0m\n    factor_states = _factors_memorize(all_factors, data_iter_maker, eval_env)\u001b[0m\n",
      "\u001b[0m  File \u001b[1;32m/opt/conda/envs/anaconda-panel-2023.05-py310/lib/python3.11/site-packages/patsy/build.py:354\u001b[0m in \u001b[1;35m_factors_memorize\u001b[0m\n    which_pass = factor.memorize_passes_needed(state, eval_env)\u001b[0m\n",
      "\u001b[0m  File \u001b[1;32m/opt/conda/envs/anaconda-panel-2023.05-py310/lib/python3.11/site-packages/patsy/eval.py:478\u001b[0m in \u001b[1;35mmemorize_passes_needed\u001b[0m\n    subset_names = [name for name in ast_names(self.code)\u001b[0m\n",
      "\u001b[0m  File \u001b[1;32m/opt/conda/envs/anaconda-panel-2023.05-py310/lib/python3.11/site-packages/patsy/eval.py:478\u001b[0m in \u001b[1;35m<listcomp>\u001b[0m\n    subset_names = [name for name in ast_names(self.code)\u001b[0m\n",
      "\u001b[0m  File \u001b[1;32m/opt/conda/envs/anaconda-panel-2023.05-py310/lib/python3.11/site-packages/patsy/eval.py:109\u001b[0m in \u001b[1;35mast_names\u001b[0m\n    for node in ast.walk(ast.parse(code)):\u001b[0m\n",
      "\u001b[0;36m  File \u001b[0;32m/opt/conda/envs/anaconda-panel-2023.05-py310/lib/python3.11/ast.py:50\u001b[0;36m in \u001b[0;35mparse\u001b[0;36m\n\u001b[0;31m    return compile(source, filename, mode, flags,\u001b[0;36m\n",
      "\u001b[0;36m  File \u001b[0;32m<unknown>:1\u001b[0;36m\u001b[0m\n\u001b[0;31m    vehicle_type_sports car\u001b[0m\n\u001b[0m                        ^\u001b[0m\n\u001b[0;31mSyntaxError\u001b[0m\u001b[0;31m:\u001b[0m invalid syntax\n"
     ]
    }
   ],
   "source": [
    "# Empty list to store model results\n",
    "models = []\n",
    "\n",
    "# Feature columns\n",
    "features = df.drop(columns=[\"id\", \"outcome\"]).columns\n",
    "\n",
    "# Loop through features\n",
    "for col in features:\n",
    "    # Create a model\n",
    "    model = logit(f\"outcome ~ {col}\", data=df).fit()\n",
    "    # Add each model to the models list\n",
    "    models.append(model)\n"
   ]
  },
  {
   "cell_type": "code",
   "execution_count": 26,
   "id": "35131a4f-f215-47dc-b501-5a1ea6f56907",
   "metadata": {},
   "outputs": [
    {
     "name": "stdout",
     "output_type": "stream",
     "text": [
      "                           Logit Regression Results                           \n",
      "==============================================================================\n",
      "Dep. Variable:                outcome   No. Observations:                10000\n",
      "Model:                          Logit   Df Residuals:                     9998\n",
      "Method:                           MLE   Df Model:                            1\n",
      "Date:                Tue, 24 Sep 2024   Pseudo R-squ.:                0.009272\n",
      "Time:                        11:08:04   Log-Likelihood:                -6159.5\n",
      "converged:                       True   LL-Null:                       -6217.2\n",
      "Covariance Type:            nonrobust   LLR p-value:                 6.807e-27\n",
      "====================================================================================\n",
      "                       coef    std err          z      P>|z|      [0.025      0.975]\n",
      "------------------------------------------------------------------------------------\n",
      "Intercept           -1.0270      0.032    -32.029      0.000      -1.090      -0.964\n",
      "gender_1[T.True]     0.4651      0.044     10.686      0.000       0.380       0.550\n",
      "====================================================================================\n"
     ]
    }
   ],
   "source": [
    "print(model.summary())"
   ]
  },
  {
   "cell_type": "code",
   "execution_count": 30,
   "id": "6fe7d257-2da2-413b-a6b5-08c2b0209fb2",
   "metadata": {},
   "outputs": [],
   "source": [
    "# Empty list to store accuracies\n",
    "accuracies = []\n",
    "\n",
    "# Loop through models\n",
    "for feature in range(0, len(models)):\n",
    "    # Compute the confusion matrix\n",
    "    conf_matrix = models[feature].pred_table()\n",
    "    # True negatives\n",
    "    tn = conf_matrix[0,0]\n",
    "    # True positives\n",
    "    tp = conf_matrix[1,1]\n",
    "    # False negatives\n",
    "    fn = conf_matrix[1,0]\n",
    "    # False positives\n",
    "    fp = conf_matrix[0,1]\n",
    "    # Compute accuracy\n",
    "    acc = (tn + tp) / (tn + fn + fp + tp)\n",
    "    accuracies.append(acc)"
   ]
  },
  {
   "cell_type": "code",
   "execution_count": 32,
   "id": "33405aae-d591-4be6-8de0-22e66f10dc20",
   "metadata": {},
   "outputs": [
    {
     "data": {
      "text/plain": [
       "[0.7747,\n",
       " 0.7771,\n",
       " 0.6867,\n",
       " 0.7425,\n",
       " 0.7054,\n",
       " 0.7351,\n",
       " 0.6867,\n",
       " 0.6867,\n",
       " 0.6867,\n",
       " 0.6867,\n",
       " 0.6904,\n",
       " 0.6867,\n",
       " 0.6867,\n",
       " 0.6867,\n",
       " 0.6867]"
      ]
     },
     "execution_count": 32,
     "metadata": {},
     "output_type": "execute_result"
    }
   ],
   "source": [
    "accuracies"
   ]
  },
  {
   "cell_type": "code",
   "execution_count": 34,
   "id": "731571be-1d0c-47a8-97e1-b96fbef59750",
   "metadata": {},
   "outputs": [
    {
     "data": {
      "text/html": [
       "<div>\n",
       "<style scoped>\n",
       "    .dataframe tbody tr th:only-of-type {\n",
       "        vertical-align: middle;\n",
       "    }\n",
       "\n",
       "    .dataframe tbody tr th {\n",
       "        vertical-align: top;\n",
       "    }\n",
       "\n",
       "    .dataframe thead th {\n",
       "        text-align: right;\n",
       "    }\n",
       "</style>\n",
       "<table border=\"1\" class=\"dataframe\">\n",
       "  <thead>\n",
       "    <tr style=\"text-align: right;\">\n",
       "      <th></th>\n",
       "      <th>best_feature</th>\n",
       "      <th>best_accuracy</th>\n",
       "    </tr>\n",
       "  </thead>\n",
       "  <tbody>\n",
       "    <tr>\n",
       "      <th>0</th>\n",
       "      <td>driving_experience</td>\n",
       "      <td>0.7771</td>\n",
       "    </tr>\n",
       "  </tbody>\n",
       "</table>\n",
       "</div>"
      ],
      "text/plain": [
       "         best_feature  best_accuracy\n",
       "0  driving_experience         0.7771"
      ]
     },
     "execution_count": 34,
     "metadata": {},
     "output_type": "execute_result"
    }
   ],
   "source": [
    "# Find the feature with the largest accuracy\n",
    "best_feature = features[accuracies.index(max(accuracies))]\n",
    "\n",
    "# Create best_feature_df\n",
    "best_feature_df = pd.DataFrame({\"best_feature\": best_feature,\n",
    "                                \"best_accuracy\": max(accuracies)},\n",
    "                                index=[0])\n",
    "best_feature_df"
   ]
  }
 ],
 "metadata": {
  "colab": {
   "name": "Welcome to DataCamp Workspaces.ipynb",
   "provenance": []
  },
  "editor": "DataCamp Workspace",
  "kernelspec": {
   "display_name": "anaconda-panel-2023.05-py310",
   "language": "python",
   "name": "conda-env-anaconda-panel-2023.05-py310-py"
  },
  "language_info": {
   "codemirror_mode": {
    "name": "ipython",
    "version": 3
   },
   "file_extension": ".py",
   "mimetype": "text/x-python",
   "name": "python",
   "nbconvert_exporter": "python",
   "pygments_lexer": "ipython3",
   "version": "3.11.5"
  },
  "vscode": {
   "interpreter": {
    "hash": "aee8b7b246df8f9039afb4144a1f6fd8d2ca17a180786b69acc140d282b71a49"
   }
  },
  "widgets": {
   "application/vnd.jupyter.widget-state+json": {
    "state": {},
    "version_major": 2,
    "version_minor": 0
   }
  }
 },
 "nbformat": 4,
 "nbformat_minor": 5
}
