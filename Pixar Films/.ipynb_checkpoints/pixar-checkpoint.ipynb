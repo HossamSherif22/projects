version https://git-lfs.github.com/spec/v1
oid sha256:6dfc4b5e24356dd11f8ff9dad5f676c32e3a7024c26e68cf790f117593769e89
size 29343769
