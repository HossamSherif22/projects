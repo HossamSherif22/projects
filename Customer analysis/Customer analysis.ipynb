version https://git-lfs.github.com/spec/v1
oid sha256:31d4108d224696b9d34bcf839c87478a11f30f251f23bb9d34067fd809c064d1
size 394595
