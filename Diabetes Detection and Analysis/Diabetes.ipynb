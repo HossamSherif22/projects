version https://git-lfs.github.com/spec/v1
oid sha256:d2ac3dc9344edfd8eaad9fa172b5068a896d9f517ca7c40dafb62022770838f0
size 285862
