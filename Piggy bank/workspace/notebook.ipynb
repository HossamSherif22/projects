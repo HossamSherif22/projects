version https://git-lfs.github.com/spec/v1
oid sha256:a2d5c0ddec5209ffb00d7a364871ea39082a2fbd5b9b80239eba67dedc1b4f8e
size 5688
