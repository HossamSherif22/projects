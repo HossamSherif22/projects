version https://git-lfs.github.com/spec/v1
oid sha256:91433319cd3aa838aec15e1405ddf8050e1fae8631a9228b13ceb9f62c346ae4
size 726822
