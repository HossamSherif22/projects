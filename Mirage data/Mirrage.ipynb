{
 "cells": [
  {
   "cell_type": "code",
   "execution_count": null,
   "id": "973867a0-918e-453a-8f65-5f1338aedbef",
   "metadata": {},
   "outputs": [],
   "source": [
    "import kagglehub\n",
    "\n",
    "# Download latest version\n",
    "path = kagglehub.dataset_download(\"ak0212/marriage-trends-in-india-love-vs-arranged\")\n",
    "\n",
    "print(\"Path to dataset files:\", path)"
   ]
  },
  {
   "cell_type": "code",
   "execution_count": null,
   "id": "fa1db66a-f2ee-45c5-96d6-605634434129",
   "metadata": {},
   "outputs": [],
   "source": [
    "!jupyter nbconvert --ClearOutputPreprocessor.enabled=True --inplace marrage.ipynb\n"
   ]
  },
  {
   "cell_type": "code",
   "execution_count": null,
   "id": "2c3dd561-cb3b-4b32-87ac-b887c6cc550b",
   "metadata": {},
   "outputs": [],
   "source": [
    "import pandas as pd\n",
    "\n",
    "# Load the dataset\n",
    "file_path = \"marriage_data_india.csv\"  # Update with the correct path if needed\n",
    "df = pd.read_csv(file_path)\n",
    "\n",
    "# Display basic information\n",
    "print(df.info())\n",
    "\n"
   ]
  },
  {
   "cell_type": "code",
   "execution_count": null,
   "id": "356be3ce-0d19-4477-bfe8-c87a39eef384",
   "metadata": {},
   "outputs": [],
   "source": [
    "# Display first few rows\n",
    "df.head()"
   ]
  },
  {
   "cell_type": "code",
   "execution_count": null,
   "id": "1c0a81d9-c138-44d7-a2c4-4ade9e9ace94",
   "metadata": {},
   "outputs": [],
   "source": [
    "df.describe()"
   ]
  },
  {
   "cell_type": "code",
   "execution_count": null,
   "id": "fde26a80-ba60-471b-ae27-2fde7854f52b",
   "metadata": {},
   "outputs": [],
   "source": [
    "df.describe(include='object')"
   ]
  },
  {
   "cell_type": "code",
   "execution_count": null,
   "id": "89381344-98d8-4f47-bab6-95f65397f661",
   "metadata": {},
   "outputs": [],
   "source": [
    "df.duplicated().sum()"
   ]
  },
  {
   "cell_type": "code",
   "execution_count": null,
   "id": "834b5ae0-1b61-4e06-acbc-0eac1d331952",
   "metadata": {},
   "outputs": [],
   "source": [
    "df.columns = df.columns.str.lower()\n",
    "df.columns"
   ]
  },
  {
   "cell_type": "code",
   "execution_count": null,
   "id": "812a2070-131c-4f9a-a3e0-50a60b94c761",
   "metadata": {},
   "outputs": [],
   "source": [
    "from datetime import datetime\n",
    "\n",
    "# Get the current year\n",
    "current_year = datetime.now().year\n",
    "\n",
    "# Calculate the Year of Marriage\n",
    "df['year_of_marriage'] = current_year - df['years_since_marriage']\n",
    "\n",
    "# Verify the new column\n",
    "df.head()"
   ]
  },
  {
   "cell_type": "code",
   "execution_count": null,
   "id": "4d8b629f-dc09-494d-b98c-6f32a9333c59",
   "metadata": {},
   "outputs": [],
   "source": [
    "# split data in num and cat\n",
    "num = df.select_dtypes('number')\n",
    "cat = df.select_dtypes('object')"
   ]
  },
  {
   "cell_type": "code",
   "execution_count": null,
   "id": "943017ba-31b8-403b-adae-e2c02db9bfaf",
   "metadata": {},
   "outputs": [],
   "source": [
    "num.head()"
   ]
  },
  {
   "cell_type": "code",
   "execution_count": null,
   "id": "9b42fc36-76d8-471f-942e-7a1692c61078",
   "metadata": {},
   "outputs": [],
   "source": [
    "cat.head()"
   ]
  },
  {
   "cell_type": "code",
   "execution_count": null,
   "id": "05116896-25c8-45a5-bd20-38c1faca1131",
   "metadata": {},
   "outputs": [],
   "source": [
    "# Loop through each categorical column\n",
    "for col in cat:\n",
    "    print(f\" Value Counts for: {col}\\n\")\n",
    "    print(df[col].value_counts(), \"\\n\")\n",
    "    \n",
    "    # Plot bar chart using Plotly\n",
    "    fig = px.bar(df[col].value_counts(), \n",
    "                 x=df[col].value_counts().index, \n",
    "                 y=df[col].value_counts().values, \n",
    "                 title=f\"Distribution of {col}\",\n",
    "                 labels={\"x\": col, \"y\": \"Count\"})\n",
    "    fig.show()"
   ]
  },
  {
   "cell_type": "code",
   "execution_count": null,
   "id": "3b1b0aa3-ae99-40bb-9096-213885d4dd69",
   "metadata": {},
   "outputs": [],
   "source": [
    "# Calculate the percentage split per Year_of_Marriage\n",
    "yearly_counts = df.groupby(['year_of_marriage','marriage_type']).size().unstack(fill_value=0)\n",
    "yearly_percent = yearly_counts.div(yearly_counts.sum(axis=1),axis=0) * 100 # Convert to %\n",
    "yearly_percent"
   ]
  },
  {
   "cell_type": "code",
   "execution_count": null,
   "id": "b7300cfc-0fbf-4551-bb17-b855fff5dfc5",
   "metadata": {},
   "outputs": [],
   "source": [
    "# Count occurrences of each marriage type per gender\n",
    "gender_count = df.groupby(['gender', 'marriage_type']).size().unstack(fill_value=0)\n",
    "\n",
    "# Convert to percentage (normalize by gender count)\n",
    "gender_percent = gender_count.div(gender_count.sum(axis=1), axis=0) * 100  \n",
    "\n",
    "# Display percentage distribution\n",
    "print(gender_percent)\n"
   ]
  },
  {
   "cell_type": "code",
   "execution_count": null,
   "id": "608084a6-bc3a-46e0-bb06-f30d4d5dd6b7",
   "metadata": {},
   "outputs": [],
   "source": [
    "# Count occurrences of each religion type per gender\n",
    "religion_count = df.groupby(['gender', 'religion']).size().unstack(fill_value=0)\n",
    "\n",
    "# Convert to percentage (normalize by gender count)\n",
    "religion_percent = religion_count.div(gender_count.sum(axis=1), axis=0) * 100  \n",
    "\n",
    "# Display percentage distribution\n",
    "print(religion_percent)\n"
   ]
  },
  {
   "cell_type": "code",
   "execution_count": null,
   "id": "cc1acd00-409c-40c0-9b36-96c5adb0ace4",
   "metadata": {},
   "outputs": [],
   "source": [
    "# Count occurrences of each divorce_status type per gender\n",
    "divorce_status_count = df.groupby(['gender', 'divorce_status']).size().unstack(fill_value=0)\n",
    "\n",
    "# Convert to percentage (normalize by gender count)\n",
    "divorce_status_percent = divorce_status_count.div(gender_count.sum(axis=1), axis=0) * 100  \n",
    "\n",
    "# Display percentage distribution\n",
    "print(divorce_status_percent)\n"
   ]
  },
  {
   "cell_type": "code",
   "execution_count": null,
   "id": "0815827a-93ef-4850-b6a4-7070789b7101",
   "metadata": {},
   "outputs": [],
   "source": [
    "# Count occurrences of each income_level type per gender\n",
    "income_level_count = df.groupby(['gender', 'income_level']).size().unstack(fill_value=0)\n",
    "\n",
    "# Convert to percentage (normalize by gender count)\n",
    "income_level_percent = income_level_count.div(gender_count.sum(axis=1), axis=0) * 100  \n",
    "\n",
    "# Display percentage distribution\n",
    "print(income_level_percent)\n"
   ]
  },
  {
   "cell_type": "code",
   "execution_count": null,
   "id": "24d48874-e010-4249-b198-d2c85fe1f347",
   "metadata": {},
   "outputs": [],
   "source": [
    "# Count occurrences of each marriage type per gender\n",
    "income_level_count = df.groupby(['gender', 'marital_satisfaction']).size().unstack(fill_value=0)\n",
    "\n",
    "# Convert to percentage (normalize by gender count)\n",
    "income_level_percent = income_level_count.div(gender_count.sum(axis=1), axis=0) * 100  \n",
    "\n",
    "# Display percentage distribution\n",
    "print(income_level_percent)\n"
   ]
  },
  {
   "cell_type": "markdown",
   "id": "03f4216a-8f69-4418-b1fa-963d1e7ef1c6",
   "metadata": {},
   "source": [
    "# Visualise "
   ]
  },
  {
   "cell_type": "code",
   "execution_count": null,
   "id": "099ffb0e-f892-4441-b53a-3476ca68da58",
   "metadata": {},
   "outputs": [],
   "source": [
    "import plotly.express as px\n",
    "df.columns"
   ]
  },
  {
   "cell_type": "code",
   "execution_count": null,
   "id": "39e56039-bb6e-415e-a610-e496f8d71678",
   "metadata": {},
   "outputs": [],
   "source": [
    "fig = px.histogram(df, x=\"marriage_type\", nbins=30, title=\"Distribution of marriage_type\")\n",
    "fig.show()\n"
   ]
  },
  {
   "cell_type": "code",
   "execution_count": null,
   "id": "ef9551c4-82d2-41e6-bc3c-a9d6069cccf6",
   "metadata": {},
   "outputs": [],
   "source": [
    "fig = px.scatter(df, x=\"age_at_marriage\", y=\"income_level\", color=\"marriage_type\",\n",
    "                 title=\"Marriage Age vs. Income by Marriage Type\")\n",
    "fig.show()\n"
   ]
  },
  {
   "cell_type": "code",
   "execution_count": null,
   "id": "616b5bff-0abb-4163-89f8-bfadcc59cbe6",
   "metadata": {},
   "outputs": [],
   "source": [
    "fig = px.box(df, x=\"religion\", y=\"age_at_marriage\", title=\"Marriage Age Distribution by Region\")\n",
    "fig.show()\n"
   ]
  },
  {
   "cell_type": "code",
   "execution_count": null,
   "id": "15681881-f8e5-4f61-a89a-a2a813a40608",
   "metadata": {},
   "outputs": [],
   "source": [
    "import plotly.figure_factory as ff\n",
    "import numpy as np\n",
    "\n",
    "correlation = num.corr()\n",
    "fig = ff.create_annotated_heatmap(\n",
    "    z=correlation.to_numpy(), \n",
    "    x=list(correlation.columns),\n",
    "    y=list(correlation.index),\n",
    "    colorscale=\"Viridis\")\n",
    "\n",
    "fig.update_layout(\n",
    "    font=dict(\n",
    "        family=\"Arial\",  # You can change the font family\n",
    "        size=7,         # Adjust the font size (e.g., 14, 16, 18, etc.)\n",
    "        color=\"black\"    # Change the font color if needed\n",
    "    )\n",
    ")\n",
    "\n",
    "fig.update_layout(width=700, height=500)  # Adjust values as needed\n",
    "\n",
    "fig.show()\n"
   ]
  },
  {
   "cell_type": "code",
   "execution_count": null,
   "id": "f03cb086-844d-4f9d-99ef-a24156739f8f",
   "metadata": {},
   "outputs": [],
   "source": [
    "fig = px.pie(df, names=\"marriage_type\", title=\"Proportion of Marriage Types\", hole=0.4)\n",
    "fig.show()\n"
   ]
  },
  {
   "cell_type": "code",
   "execution_count": null,
   "id": "f7bad7f7-32e7-4c74-9314-4cd172f21b21",
   "metadata": {},
   "outputs": [],
   "source": [
    "fig = px.box(df, x=\"gender\", y=\"age_at_marriage\", color=\"gender\",\n",
    "             title=\"Marriage Age Distribution by Gender\")\n",
    "fig.show()\n"
   ]
  },
  {
   "cell_type": "code",
   "execution_count": null,
   "id": "ce518d0a-e5f3-4010-8c97-edb4e419c8ff",
   "metadata": {},
   "outputs": [],
   "source": [
    "fig = px.violin(df, x=\"education_level\", y=\"age_at_marriage\", color=\"education_level\",\n",
    "                title=\"Marriage Age Distribution by Education Level\",\n",
    "                box=True, points=\"all\")\n",
    "fig.show()\n"
   ]
  },
  {
   "cell_type": "code",
   "execution_count": null,
   "id": "d5ebedac-a8c9-4a45-a716-e3d15e051e0a",
   "metadata": {},
   "outputs": [],
   "source": [
    "fig = px.histogram(df, x=\"income_level\", nbins=40, color=\"marriage_type\",\n",
    "                   title=\"Income Distribution by Marriage Type\")\n",
    "fig.show()\n"
   ]
  },
  {
   "cell_type": "code",
   "execution_count": null,
   "id": "634ed267-d9d4-48a8-bfe4-6b7d75602a12",
   "metadata": {},
   "outputs": [],
   "source": [
    "fig = px.histogram(df, x=\"divorce_status\", nbins=40, color=\"marriage_type\",\n",
    "                   title=\"Income Distribution by Marriage Type\")\n",
    "fig.show()\n"
   ]
  },
  {
   "cell_type": "code",
   "execution_count": null,
   "id": "b6662492-d1a0-4027-a46b-9c97f2e856e6",
   "metadata": {},
   "outputs": [],
   "source": [
    "fig = px.histogram(df, x=\"inter-religion\", nbins=40, color=\"marriage_type\",\n",
    "                   title=\"Income Distribution by Marriage Type\")\n",
    "fig.show()\n"
   ]
  },
  {
   "cell_type": "code",
   "execution_count": null,
   "id": "e958fdd3-4ab0-4806-8efe-d3cf157d2271",
   "metadata": {},
   "outputs": [],
   "source": [
    "fig = px.histogram(df, x=\"inter-caste\", nbins=40, color=\"marriage_type\",\n",
    "                   title=\"Income Distribution by Marriage Type\")\n",
    "fig.show()\n"
   ]
  },
  {
   "cell_type": "code",
   "execution_count": null,
   "id": "16b2b1fc-e376-439e-95c4-8039f9e16a93",
   "metadata": {},
   "outputs": [],
   "source": [
    "fig = px.sunburst(df, path=[\"education_level\", \"marriage_type\"], title=\"Marriage Type by Region\")\n",
    "fig.show()\n"
   ]
  },
  {
   "cell_type": "markdown",
   "id": "821e4ab4-9e34-4061-bb0c-19b5bee8cb4f",
   "metadata": {},
   "source": [
    "# ML "
   ]
  },
  {
   "cell_type": "code",
   "execution_count": null,
   "id": "72d2b9a5-d053-4adb-aa1d-3cfaa1118734",
   "metadata": {},
   "outputs": [],
   "source": [
    "from sklearn.model_selection import train_test_split, cross_val_score\n",
    "from sklearn.pipeline import Pipeline\n",
    "from sklearn.preprocessing import StandardScaler, OneHotEncoder, LabelEncoder\n",
    "from sklearn.impute import SimpleImputer\n",
    "\n",
    "from sklearn.ensemble import RandomForestClassifier, GradientBoostingClassifier\n",
    "from sklearn.linear_model import LogisticRegression\n",
    "from sklearn.svm import SVC\n",
    "from sklearn.neighbors import KNeighborsClassifier\n",
    "from sklearn.naive_bayes import GaussianNB\n",
    "from sklearn.tree import DecisionTreeClassifier\n",
    "\n",
    "from imblearn.over_sampling import SMOTE\n",
    "from imblearn.pipeline import Pipeline as ImbPipeline\n",
    "from sklearn.metrics import accuracy_score, classification_report"
   ]
  },
  {
   "cell_type": "code",
   "execution_count": null,
   "id": "f3fd3b83-d56b-4ca3-9a95-71610534fd7a",
   "metadata": {},
   "outputs": [],
   "source": [
    "# Encode cat \n",
    "for col in cat:\n",
    "    le = LabelEncoder()\n",
    "    df[col]= le.fit_transform(df[col])\n",
    "df.head()"
   ]
  },
  {
   "cell_type": "code",
   "execution_count": null,
   "id": "32ef9811-b684-4310-ab6b-2402d89ddec1",
   "metadata": {},
   "outputs": [],
   "source": [
    "# Split features & target\n",
    "X = df.drop(columns=[\"divorce_status\"])  # Features\n",
    "y = df[\"divorce_status\"]  # Target\n"
   ]
  },
  {
   "cell_type": "code",
   "execution_count": null,
   "id": "8821c497-0483-45b2-aa4f-72e1915d2798",
   "metadata": {},
   "outputs": [],
   "source": [
    " #Handle class imbalance using SMOTE\n",
    "smote = SMOTE(random_state=42)\n",
    "X_resampled, y_resampled = smote.fit_resample(X, y)"
   ]
  },
  {
   "cell_type": "code",
   "execution_count": null,
   "id": "0d689c87-3340-4699-8247-6a376602d98c",
   "metadata": {},
   "outputs": [],
   "source": [
    "# Train-test split\n",
    "X_train, X_test, y_train, y_test = train_test_split(X, y, test_size=0.2, random_state=42)"
   ]
  },
  {
   "cell_type": "code",
   "execution_count": null,
   "id": "2782c315-d6ca-4069-8787-34ce5449bc2d",
   "metadata": {},
   "outputs": [],
   "source": [
    "# Define models\n",
    "models = {\n",
    "    \"Logistic Regression\": LogisticRegression(),\n",
    "    \"Random Forest\": RandomForestClassifier(n_estimators=100, random_state=42),\n",
    "    \"Gradient Boosting\": GradientBoostingClassifier(n_estimators=100),\n",
    "    \"SVM\": SVC(kernel=\"linear\"),\n",
    "    \"K-Nearest Neighbors\": KNeighborsClassifier(n_neighbors=5),\n",
    "    \"Naive Bayes\": GaussianNB(),\n",
    "    \"Decision Tree\": DecisionTreeClassifier(random_state=42)\n",
    "}"
   ]
  },
  {
   "cell_type": "code",
   "execution_count": null,
   "id": "31b4251c-4ba6-4d5a-bef9-6075d562a99d",
   "metadata": {},
   "outputs": [],
   "source": [
    "# Train and evaluate each model using pipelines\n",
    "for name, model in models.items():\n",
    "    pipeline = ImbPipeline(steps=[\n",
    "        (\"scaler\", StandardScaler()),\n",
    "        (\"classifier\", model)\n",
    "    ])\n",
    "\n",
    "    # Train model\n",
    "    pipeline.fit(X_train, y_train)\n",
    "    \n",
    "    # Predict on test set\n",
    "    y_pred = pipeline.predict(X_test)\n",
    "    \n",
    "    # Print performance metrics\n",
    "    print(f\"\\n🔹 {name} Model Performance:\")\n",
    "    print(f\"Accuracy: {accuracy_score(y_test, y_pred):.4f}\")\n",
    "    print(classification_report(y_test, y_pred, zero_division=1))  # Set to 1 or 0 as needed\n"
   ]
  },
  {
   "cell_type": "code",
   "execution_count": null,
   "id": "32dff287-281c-4043-853c-21d09463efcc",
   "metadata": {},
   "outputs": [],
   "source": [
    "# Get feature importance\n",
    "importance_df = pd.DataFrame({\n",
    "    \"Feature\": X.columns,\n",
    "    \"Importance\": rf_model.feature_importances_\n",
    "}).sort_values(by=\"Importance\", ascending=False)\n",
    "\n",
    "# Plot feature importance\n",
    "plt.figure(figsize=(10, 6))\n",
    "sns.barplot(x=importance_df[\"Importance\"], y=importance_df[\"Feature\"], palette=\"viridis\")\n",
    "plt.xlabel(\"Feature Importance Score\")\n",
    "plt.ylabel(\"Features\")\n",
    "plt.title(\"Feature Importance - Divorce Prediction\")\n",
    "plt.show()\n"
   ]
  },
  {
   "cell_type": "code",
   "execution_count": null,
   "id": "17071bb7-f939-4b5f-a218-c318fe68b1d5",
   "metadata": {},
   "outputs": [],
   "source": []
  }
 ],
 "metadata": {
  "kernelspec": {
   "display_name": "Python 3 (ipykernel)",
   "language": "python",
   "name": "python3"
  },
  "language_info": {
   "codemirror_mode": {
    "name": "ipython",
    "version": 3
   },
   "file_extension": ".py",
   "mimetype": "text/x-python",
   "name": "python",
   "nbconvert_exporter": "python",
   "pygments_lexer": "ipython3",
   "version": "3.12.5"
  }
 },
 "nbformat": 4,
 "nbformat_minor": 5
}
