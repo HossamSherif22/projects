version https://git-lfs.github.com/spec/v1
oid sha256:06f141444d91c277bee1c219f6268086857a6de1d1a32ac213bb25519f21ed6a
size 3182
