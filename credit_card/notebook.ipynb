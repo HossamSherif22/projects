version https://git-lfs.github.com/spec/v1
oid sha256:2b72fc13c0e1afba7c68a9dd9d1189ab9d76753a5401ecdc9ef7018689d96d19
size 7808
