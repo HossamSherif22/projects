version https://git-lfs.github.com/spec/v1
oid sha256:3787e250d04ea90cda0f9305b0650d7fa85fc2aed30e49e64f949f5dd7db9f1c
size 78845041
